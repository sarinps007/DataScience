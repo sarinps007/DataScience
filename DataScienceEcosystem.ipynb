{
  "metadata": {
    "kernelspec": {
      "name": "python",
      "display_name": "Python (Pyodide)",
      "language": "python"
    },
    "language_info": {
      "codemirror_mode": {
        "name": "python",
        "version": 3
      },
      "file_extension": ".py",
      "mimetype": "text/x-python",
      "name": "python",
      "nbconvert_exporter": "python",
      "pygments_lexer": "ipython3",
      "version": "3.8"
    }
  },
  "nbformat_minor": 4,
  "nbformat": 4,
  "cells": [
    {
      "cell_type": "markdown",
      "source": "# Data Science Tools and Ecosystem",
      "metadata": {}
    },
    {
      "cell_type": "markdown",
      "source": "In this notebook, Data Science Tools and Ecosystem are summarized.",
      "metadata": {}
    },
    {
      "cell_type": "markdown",
      "source": "\r\n**Objectives**:\r\n- List popular languages for Data Science.\r\n- Introduce common data science libraries.\r\n- Present a table of Data Science tools.\r\n- Provide examples of arithmetic expressions.\r\n- Demonstrate a code cell to perform basic arithmetic operations.\r\n- Show how to convert minutes to hours.",
      "metadata": {}
    },
    {
      "cell_type": "markdown",
      "source": "# Data Science Languages\r\n\r\nHere are some popular languages used in data science:\r\n\r\n1. **Python**: Python is the most widely used language in data science due to its simplicity, versatility, and extensive ecosystem of libraries such as NumPy, Pandas, Matplotlib, and Scikit-learn.\r\n\r\n2. **R**: R is a language specifically designed for statistical computing and graphics. It is widely used in academia and research settings for its powerful statistical analysis capabilities and visualization tools.\r\n\r\n3. **SQL (Structured Query Language)**: SQL is essential for working with relational databases, which are commonly used to store and manage large datasets. Data scientists often use SQL to extract, manipulate, and analyze data stored in databases.\r\n\r\n4. **Julia**: Julia is a high-level, high-performance programming language specifically designed for numerical and scientific computing. It is gaining popularity in the data science community due to its speed and ease of use.\r\n\r\n5. **Scala**: Scala is a general-purpose programming language that runs on the Java Virtual Machine (JVM). It is particularly popular for building data processing applications using Apache Spark, a powerful distributed computing framework for big data processing.\r\n\r\n6. **Julia**: Julia is a high-level, high-performance programming language specifically designed for numerical and scientific computing. It is gaining popularity in the data science community due to its speed and ease of use.\r\n\r\n7. **JavaScript**: JavaScript is commonly used for web development, but it is also gaining traction in data science with libraries like TensorFlow.js and D3.js for machine learning and data visualization tasks, respectively.\r\n\r\nThese languages offer various strengths and are chosen based on specific project requirements, preferences, and the expertise of the data scientist.\r\n\r\n\r\n\r\n\r\n",
      "metadata": {}
    },
    {
      "cell_type": "markdown",
      "source": "# Data Science Libraries\n\nHere are some popular libraries used in data science are as follows:\n\n1. **NumPy**: NumPy is a fundamental package for scientific computing in Python. It provides support for large, multi-dimensional arrays and matrices, along with a collection of mathematical functions to operate on these arrays.\n\n2. **Pandas**: Pandas is a powerful library for data manipulation and analysis. It offers data structures and operations for manipulating numerical tables and time series data, making it essential for data preprocessing and cleaning tasks.\n\n3. **Matplotlib**: Matplotlib is a comprehensive library for creating static, interactive, and animated visualizations in Python. It provides a wide range of plotting functions to generate various types of plots and charts.\n\n4. **Seaborn**: Seaborn is built on top of Matplotlib and provides a high-level interface for drawing attractive and informative statistical graphics. It simplifies the process of creating complex visualizations and offers additional statistical tools.\n\n5. **Scikit-learn**: Scikit-learn is a simple and efficient library for machine learning in Python. It provides tools for data mining and data analysis and supports various supervised and unsupervised learning algorithms, as well as model evaluation and selection techniques.\n\n6. **TensorFlow**: TensorFlow is an open-source machine learning framework developed by Google. It provides a comprehensive ecosystem of tools, libraries, and community resources for building and deploying machine learning models at scale.\n\n7. **Keras**: Keras is a high-level neural networks API, written in Python and capable of running on top of TensorFlow, Theano, or Microsoft Cognitive Toolkit (CNTK). It allows for fast experimentation with deep neural networks and supports both convolutional and recurrent networks.\n\n8. **PyTorch**: PyTorch is an open-source machine learning library developed by Facebook's AI Research lab. It offers a flexible framework for building dynamic neural networks and provides support for automatic differentiation, a key feature for training deep learning models.\n",
      "metadata": {}
    },
    {
      "cell_type": "markdown",
      "source": "# Data Science Tools\r\n\r\nHere's a table summarizing various data science tools:\r\n\r\n| Tool          | Description                                                                                                  |\r\n|---------------|--------------------------------------------------------------------------------------------------------------|\r\n| Python        | A versatile programming language with rich libraries for data manipulation, analysis, and machine learning. |\r\n| R             | A statistical programming language with extensive packages for data analysis and visualization.              |\r\n| SQL           | A standard language for managing and querying relational databases, crucial for data retrieval and storage.  |\r\n| Jupyter       | An open-source web application that allows you to create and share documents containing live code, equations, visualizations, and narrative text. |\r\n| Apache Spark  | A fast and general-purpose distributed computing system used for big data processing and analytics.          |\r\n| Tableau       | A data visualization tool that allows users to create interactive and shareable dashboards and reports.      |\r\n| SAS           | A software suite used for advanced analytics, multivariate analysis, business intelligence, and data management. |\r\n| MATLAB        | A programming environment for numerical computing and visualization, widely used in engineering and scientific research. |\r\n| KNIME         | An open-source data analytics, reporting, and integration platform that allows users to visually create data flows. |\r\n| RapidMiner    | A data science platform for analytics teams that unites data prep, machine learning, and predictive model deployment. |\r\n| Microsoft Excel | A spreadsheet program commonly used for data analysis, visualization, and reporting.                      |\r\n| D3.js         | A JavaScript library for producing dynamic, interactive data visualizations in web browsers.                 |\r\n\r\nThese tools cater to different aspects of the data science workflow, from data manipulation and analysis to visualization and machine learning.\r\n",
      "metadata": {}
    },
    {
      "cell_type": "markdown",
      "source": "### Arithmetic Expression Examples\r\n\r\nArithmetic expressions are fundamental mathematical expressions that involve basic arithmetic operations such as addition, subtraction, multiplication, and division. They are used extensively in various fields of mathematics, engineering, and computer science. Here are some examples of arithmetic expressions:\r\n\r\n1. **Addition**: Adding two or more numbers together.\r\n   - Example: \\( 5 + 3 = 8 \\)\r\n\r\n2. **Subtraction**: Finding the difference between two numbers.\r\n   - Example: \\( 10 - 4 = 6 \\)\r\n\r\n3. **Multiplication**: Performing repeated addition of one number (the multiplicand) a certain number of times (the multiplier).\r\n   - Example: \\( 2 \\times 6 = 12 \\)\r\n\r\n4. **Division**: Sharing a quantity into equal parts or finding out how many times one number is contained within another.\r\n   - Example: \\( \\frac{15}{3} = 5 \\)\r\n\r\n5. **Exponentiation**: Raising a number to a certain power.\r\n   - Example: \\( 2^3 = 8 \\) (2 raised to the power of 3 equals 8)\r\n\r\n6. **Modulus**: Finding the remainder when one number is divided by another.\r\n   - Example: \\( 10 \\mod 3 = 1 \\) (The remainder when 10 is divided by 3 is 1)\r\n\r\nArithmetic expressions can be combined and nested to perform more complex calculations. They form the basis of mathematical operations in programming languages, spreadsheets, and various computational tools.\r\n",
      "metadata": {}
    },
    {
      "cell_type": "code",
      "source": "# Multiply and add numbers\nnum1 = 3\nnum2 = 4\nnum3 = 5\n\n# Multiply num1 and num2\nresult_multiply = (num1 * num2)+5\nprint(f\"equals {result_multiply}\")\n\n\n",
      "metadata": {
        "trusted": true
      },
      "outputs": [
        {
          "name": "stdout",
          "text": "equals 17\n",
          "output_type": "stream"
        }
      ],
      "execution_count": 9
    },
    {
      "cell_type": "code",
      "source": "# Convert minutes to hours\nminutes = 200\n\n# Calculate hours\nhours = minutes / 60\n\nprint(f\"{minutes} minutes is equal to {hours} hours\")\n",
      "metadata": {
        "trusted": true
      },
      "outputs": [
        {
          "name": "stdout",
          "text": "150 minutes is equal to 2.5 hours\n",
          "output_type": "stream"
        }
      ],
      "execution_count": 8
    },
    {
      "cell_type": "code",
      "source": "",
      "metadata": {
        "trusted": true
      },
      "outputs": [],
      "execution_count": null
    }
  ]
}